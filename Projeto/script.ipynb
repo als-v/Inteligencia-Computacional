{
 "cells": [
  {
   "cell_type": "code",
   "execution_count": 1,
   "metadata": {},
   "outputs": [
    {
     "name": "stderr",
     "output_type": "stream",
     "text": [
      "c:\\ferramentass\\Python3.9\\lib\\site-packages\\numpy\\_distributor_init.py:30: UserWarning: loaded more than 1 DLL from .libs:\n",
      "c:\\ferramentass\\Python3.9\\lib\\site-packages\\numpy\\.libs\\libopenblas.WCDJNK7YVMPZQ2ME2ZZHJJRJ3JIKNDB7.gfortran-win_amd64.dll\n",
      "c:\\ferramentass\\Python3.9\\lib\\site-packages\\numpy\\.libs\\libopenblas.XWYDX2IKJW2NMTWSFYNGFUWKQU3LYTCZ.gfortran-win_amd64.dll\n",
      "  warnings.warn(\"loaded more than 1 DLL from .libs:\"\n"
     ]
    }
   ],
   "source": [
    "from skimage.feature import graycomatrix, graycoprops\n",
    "from skimage.feature import SIFT\n",
    "from sklearn.neighbors import KNeighborsClassifier\n",
    "from skimage.feature import local_binary_pattern\n",
    "from sklearn import decomposition\n",
    "from sklearn import metrics\n",
    "from sklearn.svm import SVC\n",
    "from PIL import Image\n",
    "import pandas as pd\n",
    "import numpy as np\n",
    "import os\n",
    "\n",
    "newSize = 128 # Dimensão 128, 64, 32, 16, 8\n",
    "dataDir = './data'"
   ]
  },
  {
   "cell_type": "code",
   "execution_count": 11,
   "metadata": {},
   "outputs": [],
   "source": [
    "def doLBP(ImageArray):\n",
    "    lbp = local_binary_pattern(ImageArray, 3, 8 * 3)\n",
    "    n_bins = int(lbp.max() + 1)\n",
    "    hist, _ = np.histogram(lbp, density=True, bins=n_bins, range=(0, n_bins))\n",
    "\n",
    "    return hist.tolist()\n",
    "\n",
    "def doGLCM(ImageArray, angles_range):\n",
    "    glcmMatrix = np.empty((0,len(angles_range)),float)\n",
    "    glcm = graycomatrix(ImageArray, distances=range(0,100,2), angles=angles_range, levels=256, symmetric=True, normed=True)\n",
    "    \n",
    "    glcmContrast = graycoprops(glcm, 'contrast')\n",
    "    glcmDissimilarity = graycoprops(glcm, 'dissimilarity')\n",
    "    glcmHomogeneity = graycoprops(glcm, 'homogeneity')\n",
    "    glcmASM = graycoprops(glcm, 'ASM')\n",
    "    glcmEnergy = graycoprops(glcm, 'energy')\n",
    "    glcmCorrelation = graycoprops(glcm, 'correlation')\n",
    "\n",
    "    glcmMatrix = np.append(glcmMatrix, glcmContrast, axis=0)\n",
    "    glcmMatrix = np.append(glcmMatrix, glcmDissimilarity, axis=0)\n",
    "    glcmMatrix = np.append(glcmMatrix, glcmHomogeneity, axis=0)\n",
    "    glcmMatrix = np.append(glcmMatrix, glcmASM, axis=0)\n",
    "    glcmMatrix = np.append(glcmMatrix, glcmEnergy, axis=0)\n",
    "    glcmMatrix = np.append(glcmMatrix, glcmCorrelation, axis=0)\n",
    "\n",
    "    return glcmMatrix.flatten().tolist()\n",
    "\n",
    "def doPCA(dataFrame, newSize=128):\n",
    "    y = dataFrame[0]\n",
    "    X = dataFrame.drop(0, axis=1).values\n",
    "\n",
    "    pca = decomposition.PCA(n_components=newSize)\n",
    "    pca.fit(X)\n",
    "\n",
    "    XPCA = pca.transform(X)\n",
    "\n",
    "    dataFramePCA = pd.DataFrame(XPCA)\n",
    "    dataFramePCA['Classe'] = y\n",
    "    dataFramePCA = dataFramePCA[['Classe'] + dataFramePCA.columns[:-1].tolist()]\n",
    "    \n",
    "    return dataFramePCA\n",
    "\n",
    "def doKnn(X_train, y_train, X_teste, y_teste, MAX_K=30):\n",
    "    range_k = np.arange(1, MAX_K, 1)\n",
    "    scores = {}\n",
    "\n",
    "    for k in range_k:\n",
    "        knn = KNeighborsClassifier(n_neighbors=k)\n",
    "        knn.fit(X_train, y_train)\n",
    "        y_pred = knn.predict(X_teste)\n",
    "\n",
    "        scores[k] = metrics.accuracy_score(y_teste, y_pred)\n",
    "    \n",
    "    return scores, range_k\n",
    "\n",
    "def doCVM(X_train, y_train, X_teste, y_teste, c=1.0, gamma='scale'):\n",
    "    svm = SVC(C=c, gamma=gamma)\n",
    "    svm.fit(X_train, y_train)\n",
    "\n",
    "    return svm.score(X_teste, y_teste)\n",
    "    \n",
    "def doSTIF(ImageArray):\n",
    "    sift = SIFT()\n",
    "    sift.detect_and_extract(ImageArray)\n",
    "\n",
    "    return sift.descriptors.flatten().tolist()"
   ]
  },
  {
   "cell_type": "code",
   "execution_count": 15,
   "metadata": {},
   "outputs": [],
   "source": [
    "maxH = 2073\n",
    "maxW = 2339\n",
    "dataTeste = []\n",
    "dataTreino = []\n",
    "\n",
    "angle_step = np.pi/4\n",
    "angle_end = np.pi\n",
    "angles_range = np.arange(0, angle_end, angle_step)\n",
    "\n",
    "def run(Image):\n",
    "\n",
    "    # Redimensiona a imagem para 2339x2073\n",
    "    ImageResize = Image.resize((maxW, maxH))\n",
    "\n",
    "    # Converte a imagem para um array\n",
    "    ImageArray = np.asarray(ImageResize.convert('L'))\n",
    "\n",
    "    # Aplica o LBP\n",
    "    lbp = doLBP(ImageArray)\n",
    "\n",
    "    # Aplica o GLCM\n",
    "    glcm = doGLCM(ImageArray, angles_range)\n",
    "\n",
    "    # Aplica o STIF\n",
    "    stif = doSTIF(ImageArray)\n",
    "\n",
    "    return lbp, glcm, stif\n",
    "\n",
    "def runPartition(Image, nPartitions):\n",
    "    \n",
    "    lbp = []\n",
    "    glcm = []\n",
    "    stif = []\n",
    "\n",
    "    # Redimensiona a imagem para 2339x2073\n",
    "    ImageResize = Image.resize((maxW, maxH))\n",
    "\n",
    "    # Converte a imagem para um array\n",
    "    ImageArray = np.asarray(ImageResize.convert('L'))\n",
    "\n",
    "    tamPartition = len(ImageArray)/nPartitions\n",
    "    posI = 0\n",
    "    posF = tamPartition\n",
    "\n",
    "    while posF <= len(ImageArray):\n",
    "\n",
    "        # Aplica o LBP\n",
    "        lbp += doLBP(ImageArray[int(posI):int(posF)])\n",
    "\n",
    "        # Aplica o GLCM\n",
    "        glcm += doGLCM(ImageArray[int(posI):int(posF)], angles_range)\n",
    "\n",
    "        # Aplica o STIF\n",
    "        stif += doSTIF(ImageArray[int(posI):int(posF)])\n",
    "\n",
    "        posI += tamPartition\n",
    "        posF += tamPartition\n",
    "        \n",
    "    return lbp, glcm, stif\n",
    "\n",
    "def returnData(Image, partition, nPartitions):\n",
    "    return run(Image) if not partition else runPartition(Image, nPartitions)\n",
    "\n",
    "'''\n",
    "    partition: True - Particiona a imagem em quadrantes\n",
    "    nPartitions: Quantidade de quadrantes\n",
    "    limit: Quantidade de classes a serem processadas\n",
    "'''\n",
    "\n",
    "def generateData(partition=False, nPartitions=2, limit=0):\n",
    "\n",
    "    files = os.listdir(dataDir)\n",
    "    limit = len(files) if limit == 0 else limit\n",
    "\n",
    "    for i, dir in enumerate(files[:limit]):\n",
    "        print(f'Run image n° {i}...')\n",
    "\n",
    "        # Lista todas as imagens do direttório\n",
    "        images = os.listdir(f'{dataDir}/{dir}/')\n",
    "\n",
    "        # Abrir as imagens de treino e teste\n",
    "        ImageDefaultTreino = Image.open(f'{dataDir}/{dir}/{images[0]}')\n",
    "        ImageDefaultTeste = Image.open(f'{dataDir}/{dir}/{images[1]}')\n",
    "\n",
    "        lbp, glcm, stif = returnData(ImageDefaultTreino, partition, nPartitions)\n",
    "        dataTreino.append([i] + lbp + glcm + stif)\n",
    "\n",
    "        lbp, glcm, stif = returnData(ImageDefaultTeste, partition, nPartitions)\n",
    "        dataTeste.append([i] + lbp + glcm + stif)\n",
    "\n",
    "    return dataTeste, dataTreino"
   ]
  },
  {
   "cell_type": "code",
   "execution_count": 16,
   "metadata": {},
   "outputs": [
    {
     "name": "stdout",
     "output_type": "stream",
     "text": [
      "Run image n° 0...\n",
      "Run image n° 1...\n",
      "Run image n° 2...\n",
      "Run image n° 3...\n",
      "Run image n° 4...\n",
      "Run image n° 5...\n",
      "Run image n° 6...\n",
      "Run image n° 7...\n",
      "Run image n° 8...\n",
      "Run image n° 9...\n",
      "Run image n° 10...\n",
      "Run image n° 11...\n",
      "Run image n° 12...\n",
      "Run image n° 13...\n",
      "Run image n° 14...\n",
      "Run image n° 15...\n",
      "Run image n° 16...\n",
      "Run image n° 17...\n",
      "Run image n° 18...\n",
      "Run image n° 19...\n",
      "Run image n° 20...\n",
      "Run image n° 21...\n",
      "Run image n° 22...\n",
      "Run image n° 23...\n",
      "Run image n° 24...\n",
      "Run image n° 25...\n",
      "Run image n° 26...\n",
      "Run image n° 27...\n",
      "Run image n° 28...\n",
      "Run image n° 29...\n",
      "Run image n° 30...\n",
      "Run image n° 31...\n",
      "Run image n° 32...\n",
      "Run image n° 33...\n",
      "Run image n° 34...\n",
      "Run image n° 35...\n",
      "Run image n° 36...\n",
      "Run image n° 37...\n",
      "Run image n° 38...\n",
      "Run image n° 39...\n",
      "Run image n° 40...\n",
      "Run image n° 41...\n",
      "Run image n° 42...\n",
      "Run image n° 43...\n",
      "Run image n° 44...\n",
      "Run image n° 45...\n",
      "Run image n° 46...\n",
      "Run image n° 47...\n",
      "Run image n° 48...\n",
      "Run image n° 49...\n"
     ]
    }
   ],
   "source": [
    "dataTeste, dataTreino = generateData(False, 6, 50)"
   ]
  },
  {
   "cell_type": "code",
   "execution_count": 38,
   "metadata": {},
   "outputs": [],
   "source": [
    "dataFrameTreino = pd.DataFrame(dataTreino)\n",
    "dataFrameTeste = pd.DataFrame(dataTeste)\n",
    "\n",
    "dataFrameTreino = dataFrameTreino.fillna(0)\n",
    "dataFrameTeste = dataFrameTeste.fillna(0)\n",
    "\n",
    "dataFrameTreino.to_csv('data_treino.csv', index=False)\n",
    "dataFrameTeste.to_csv('data_teste.csv', index=False)"
   ]
  },
  {
   "cell_type": "code",
   "execution_count": 39,
   "metadata": {},
   "outputs": [],
   "source": [
    "PCATreino = doPCA(dataFrameTreino, newSize if len(dataFrameTreino) > newSize else len(dataFrameTreino))\n",
    "PCATeste = doPCA(dataFrameTeste, newSize if len(dataFrameTeste) > newSize else len(dataFrameTeste))"
   ]
  },
  {
   "cell_type": "code",
   "execution_count": 54,
   "metadata": {},
   "outputs": [
    {
     "data": {
      "text/plain": [
       "0.14"
      ]
     },
     "execution_count": 54,
     "metadata": {},
     "output_type": "execute_result"
    }
   ],
   "source": [
    "scores, range_k = doKnn(PCATreino.drop(['Classe'], axis=1).values, PCATreino['Classe'].values, PCATeste.drop(['Classe'], axis=1).values, PCATeste['Classe'].values, 30 if len(dataFrameTeste) > 30 else len(dataFrameTeste)-1)\n",
    "max(scores.values())"
   ]
  },
  {
   "cell_type": "code",
   "execution_count": 55,
   "metadata": {},
   "outputs": [
    {
     "data": {
      "text/plain": [
       "0.1"
      ]
     },
     "execution_count": 55,
     "metadata": {},
     "output_type": "execute_result"
    }
   ],
   "source": [
    "svm = doCVM(PCATreino.drop(['Classe'], axis=1).values, PCATreino['Classe'].values, PCATeste.drop(['Classe'], axis=1).values, PCATeste['Classe'].values)\n",
    "svm"
   ]
  }
 ],
 "metadata": {
  "kernelspec": {
   "display_name": "Python 3.9.7 64-bit",
   "language": "python",
   "name": "python3"
  },
  "language_info": {
   "codemirror_mode": {
    "name": "ipython",
    "version": 3
   },
   "file_extension": ".py",
   "mimetype": "text/x-python",
   "name": "python",
   "nbconvert_exporter": "python",
   "pygments_lexer": "ipython3",
   "version": "3.9.7"
  },
  "orig_nbformat": 4,
  "vscode": {
   "interpreter": {
    "hash": "397ded43423ab50173f91d648ca407046bf3aab8251a4e5cffb6ba8dc8b9667f"
   }
  }
 },
 "nbformat": 4,
 "nbformat_minor": 2
}
