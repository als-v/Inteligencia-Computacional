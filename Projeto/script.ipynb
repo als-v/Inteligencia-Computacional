{
 "cells": [
  {
   "cell_type": "code",
   "execution_count": 4,
   "metadata": {},
   "outputs": [],
   "source": [
    "from skimage.feature import graycomatrix, graycoprops\n",
    "from sklearn.neighbors import KNeighborsClassifier\n",
    "from skimage.feature import local_binary_pattern\n",
    "from sklearn import decomposition\n",
    "from sklearn import metrics\n",
    "from PIL import Image\n",
    "import pandas as pd\n",
    "import numpy as np\n",
    "import os\n",
    "\n",
    "newSize = 128 # Dimensão 128, 64, 32, 16, 8\n",
    "dataDir = './data'"
   ]
  },
  {
   "cell_type": "code",
   "execution_count": 2,
   "metadata": {},
   "outputs": [],
   "source": [
    "def doLBP(ImageArray):\n",
    "    lbp = local_binary_pattern(ImageArray, 3, 8 * 3)\n",
    "    n_bins = int(lbp.max() + 1)\n",
    "    hist, _ = np.histogram(lbp, density=True, bins=n_bins, range=(0, n_bins))\n",
    "\n",
    "    return hist.tolist()\n",
    "\n",
    "def doGLCM(ImageArray, angles_range):\n",
    "    glcmMatrix = np.empty((0,len(angles_range)),float)\n",
    "    glcm = graycomatrix(ImageArray, distances=range(0,100,2), angles=angles_range, levels=256, symmetric=True, normed=True)\n",
    "    \n",
    "    glcmContrast = graycoprops(glcm, 'contrast')\n",
    "    glcmDissimilarity = graycoprops(glcm, 'dissimilarity')\n",
    "    glcmHomogeneity = graycoprops(glcm, 'homogeneity')\n",
    "    glcmASM = graycoprops(glcm, 'ASM')\n",
    "    glcmEnergy = graycoprops(glcm, 'energy')\n",
    "    glcmCorrelation = graycoprops(glcm, 'correlation')\n",
    "\n",
    "    glcmMatrix = np.append(glcmMatrix, glcmContrast, axis=0)\n",
    "    glcmMatrix = np.append(glcmMatrix, glcmDissimilarity, axis=0)\n",
    "    glcmMatrix = np.append(glcmMatrix, glcmHomogeneity, axis=0)\n",
    "    glcmMatrix = np.append(glcmMatrix, glcmASM, axis=0)\n",
    "    glcmMatrix = np.append(glcmMatrix, glcmEnergy, axis=0)\n",
    "    glcmMatrix = np.append(glcmMatrix, glcmCorrelation, axis=0)\n",
    "\n",
    "    return glcmMatrix.flatten().tolist()\n",
    "\n",
    "def doPCA(dataFrame, newSize=128):\n",
    "    y = dataFrame[0]\n",
    "    X = dataFrame.drop(0, axis=1).values\n",
    "\n",
    "    pca = decomposition.PCA(n_components=newSize)\n",
    "    pca.fit(X)\n",
    "\n",
    "    XPCA = pca.transform(X)\n",
    "\n",
    "    dataFramePCA = pd.DataFrame(XPCA)\n",
    "    dataFramePCA['Classe'] = y\n",
    "    dataFramePCA = dataFramePCA[['Classe'] + dataFramePCA.columns[:-1].tolist()]\n",
    "    \n",
    "    return dataFramePCA\n",
    "\n",
    "def doKnn(X_train, y_train, X_teste, y_teste, MAX_K=30):\n",
    "    range_k = np.arange(1, MAX_K, 1)\n",
    "    scores = {}\n",
    "\n",
    "    for k in range_k:\n",
    "        knn = KNeighborsClassifier(n_neighbors=k)\n",
    "        knn.fit(X_train, y_train)\n",
    "        y_pred = knn.predict(X_teste)\n",
    "\n",
    "        scores[k] = metrics.accuracy_score(y_teste, y_pred)\n",
    "    \n",
    "    return scores, range_k"
   ]
  },
  {
   "cell_type": "code",
   "execution_count": 51,
   "metadata": {},
   "outputs": [],
   "source": [
    "maxH = 2073\n",
    "maxW = 2339\n",
    "dataTeste = []\n",
    "dataTreino = []\n",
    "\n",
    "angle_step = np.pi/4\n",
    "angle_end = np.pi\n",
    "angles_range = np.arange(0, angle_end, angle_step)\n",
    "\n",
    "def run(Image):\n",
    "    \n",
    "    # Redimensiona a imagem para 2339x2073\n",
    "    ImageResize = Image.resize((maxW, maxH))\n",
    "\n",
    "    # Converte a imagem para um array\n",
    "    ImageArray = np.asarray(ImageResize.convert('L'))\n",
    "\n",
    "    # Aplica o LBP\n",
    "    lbp = doLBP(ImageArray)\n",
    "\n",
    "    # Aplica o GLCM\n",
    "    glcm = doGLCM(ImageArray, angles_range)\n",
    "\n",
    "    return lbp, glcm\n",
    "\n",
    "def runPartition(Image, nPartitions):\n",
    "    \n",
    "    lbp = []\n",
    "    glcm = []\n",
    "\n",
    "    # Redimensiona a imagem para 2339x2073\n",
    "    ImageResize = Image.resize((maxW, maxH))\n",
    "\n",
    "    # Converte a imagem para um array\n",
    "    ImageArray = np.asarray(ImageResize.convert('L'))\n",
    "\n",
    "    tamPartition = len(ImageArray)/nPartitions\n",
    "    posI = 0\n",
    "    posF = tamPartition\n",
    "\n",
    "    while posF <= len(ImageArray):\n",
    "\n",
    "        # Aplica o LBP\n",
    "        lbp += doLBP(ImageArray[int(posI):int(posF)])\n",
    "\n",
    "        # Aplica o GLCM\n",
    "        glcm += doGLCM(ImageArray[int(posI):int(posF)], angles_range)\n",
    "\n",
    "        posI += tamPartition\n",
    "        posF += tamPartition\n",
    "        \n",
    "    return lbp, glcm\n",
    "\n",
    "def returnData(Image, partition, nPartitions):\n",
    "    return run(Image) if partition else runPartition(Image, nPartitions)\n",
    "\n",
    "def generateData(partition=False, nPartitions=2, limit=0):\n",
    "\n",
    "    files = os.listdir(dataDir)\n",
    "    limit = len(files) if limit == 0 else limit\n",
    "\n",
    "    for i, dir in enumerate(files[:limit]):\n",
    "        \n",
    "        # Lista todas as imagens do direttório\n",
    "        images = os.listdir(f'{dataDir}/{dir}/')\n",
    "\n",
    "        # Abrir as imagens de treino e teste\n",
    "        ImageDefaultTreino = Image.open(f'{dataDir}/{dir}/{images[0]}')\n",
    "        ImageDefaultTeste = Image.open(f'{dataDir}/{dir}/{images[1]}')\n",
    "\n",
    "        lbp, glcm = returnData(ImageDefaultTreino, partition, nPartitions)\n",
    "        dataTreino.append([i] + lbp + glcm)\n",
    "\n",
    "        lbp, glcm = returnData(ImageDefaultTeste, partition, nPartitions)\n",
    "        dataTeste.append([i] + lbp + glcm)\n",
    "\n",
    "    return dataTeste, dataTreino"
   ]
  },
  {
   "cell_type": "code",
   "execution_count": 52,
   "metadata": {},
   "outputs": [],
   "source": [
    "dataTeste, dataTreino = generateData(True, 6, 100)"
   ]
  },
  {
   "cell_type": "code",
   "execution_count": 53,
   "metadata": {},
   "outputs": [],
   "source": [
    "dataFrameTreino = pd.DataFrame(dataTreino)\n",
    "dataFrameTeste = pd.DataFrame(dataTeste)\n",
    "\n",
    "dataFrameTreino.to_csv('data_treino.csv', index=False)\n",
    "dataFrameTeste.to_csv('data_teste.csv', index=False)"
   ]
  },
  {
   "cell_type": "code",
   "execution_count": 62,
   "metadata": {},
   "outputs": [],
   "source": [
    "PCATreino = doPCA(dataFrameTreino, newSize if len(dataFrameTreino) > newSize else len(dataFrameTreino))\n",
    "PCATeste = doPCA(dataFrameTeste, newSize if len(dataFrameTeste) > newSize else len(dataFrameTeste))"
   ]
  },
  {
   "cell_type": "code",
   "execution_count": 63,
   "metadata": {},
   "outputs": [],
   "source": [
    "scores, range_k = doKnn(PCATreino.drop(['Classe'], axis=1).values, PCATreino['Classe'].values, PCATeste.drop(['Classe'], axis=1).values, PCATeste['Classe'].values, 30 if len(dataFrameTeste) > 30 else len(dataFrameTeste)-1)"
   ]
  },
  {
   "cell_type": "code",
   "execution_count": 64,
   "metadata": {},
   "outputs": [
    {
     "data": {
      "text/plain": [
       "{1: 0.14,\n",
       " 2: 0.11,\n",
       " 3: 0.11,\n",
       " 4: 0.1,\n",
       " 5: 0.08,\n",
       " 6: 0.07,\n",
       " 7: 0.06,\n",
       " 8: 0.06,\n",
       " 9: 0.05,\n",
       " 10: 0.05,\n",
       " 11: 0.06,\n",
       " 12: 0.05,\n",
       " 13: 0.04,\n",
       " 14: 0.04,\n",
       " 15: 0.04,\n",
       " 16: 0.05,\n",
       " 17: 0.05,\n",
       " 18: 0.06,\n",
       " 19: 0.06,\n",
       " 20: 0.04,\n",
       " 21: 0.04,\n",
       " 22: 0.04,\n",
       " 23: 0.05,\n",
       " 24: 0.05,\n",
       " 25: 0.05,\n",
       " 26: 0.05,\n",
       " 27: 0.04,\n",
       " 28: 0.04,\n",
       " 29: 0.04}"
      ]
     },
     "execution_count": 64,
     "metadata": {},
     "output_type": "execute_result"
    }
   ],
   "source": [
    "scores"
   ]
  }
 ],
 "metadata": {
  "kernelspec": {
   "display_name": "Python 3.9.7 64-bit",
   "language": "python",
   "name": "python3"
  },
  "language_info": {
   "codemirror_mode": {
    "name": "ipython",
    "version": 3
   },
   "file_extension": ".py",
   "mimetype": "text/x-python",
   "name": "python",
   "nbconvert_exporter": "python",
   "pygments_lexer": "ipython3",
   "version": "3.9.7"
  },
  "orig_nbformat": 4,
  "vscode": {
   "interpreter": {
    "hash": "397ded43423ab50173f91d648ca407046bf3aab8251a4e5cffb6ba8dc8b9667f"
   }
  }
 },
 "nbformat": 4,
 "nbformat_minor": 2
}
