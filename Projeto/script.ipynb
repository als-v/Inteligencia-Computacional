{
 "cells": [
  {
   "cell_type": "code",
   "execution_count": 1,
   "metadata": {},
   "outputs": [],
   "source": [
    "from skimage.feature import graycomatrix, graycoprops\n",
    "from sklearn.neighbors import KNeighborsClassifier\n",
    "from skimage.feature import local_binary_pattern\n",
    "from sklearn import decomposition\n",
    "from sklearn import metrics\n",
    "from PIL import Image\n",
    "import pandas as pd\n",
    "import numpy as np\n",
    "import os\n",
    "\n",
    "newSize = 128 # Dimensão 128, 64, 32, 16, 8\n",
    "dataDir = './data'"
   ]
  },
  {
   "cell_type": "code",
   "execution_count": 2,
   "metadata": {},
   "outputs": [],
   "source": [
    "def doLBP(ImageArray):\n",
    "    lbp = local_binary_pattern(ImageArray, 3, 8 * 3)\n",
    "    n_bins = int(lbp.max() + 1)\n",
    "    hist, _ = np.histogram(lbp, density=True, bins=n_bins, range=(0, n_bins))\n",
    "\n",
    "    return hist.tolist()\n",
    "\n",
    "def doGLCM(ImageArray, angles_range):\n",
    "    glcmMatrix = np.empty((0,len(angles_range)),float)\n",
    "    glcm = graycomatrix(ImageArray, distances=range(0,100,2), angles=angles_range, levels=256, symmetric=True, normed=True)\n",
    "    \n",
    "    glcmContrast = graycoprops(glcm, 'contrast')\n",
    "    glcmDissimilarity = graycoprops(glcm, 'dissimilarity')\n",
    "    glcmHomogeneity = graycoprops(glcm, 'homogeneity')\n",
    "    glcmASM = graycoprops(glcm, 'ASM')\n",
    "    glcmEnergy = graycoprops(glcm, 'energy')\n",
    "    glcmCorrelation = graycoprops(glcm, 'correlation')\n",
    "\n",
    "    glcmMatrix = np.append(glcmMatrix, glcmContrast, axis=0)\n",
    "    glcmMatrix = np.append(glcmMatrix, glcmDissimilarity, axis=0)\n",
    "    glcmMatrix = np.append(glcmMatrix, glcmHomogeneity, axis=0)\n",
    "    glcmMatrix = np.append(glcmMatrix, glcmASM, axis=0)\n",
    "    glcmMatrix = np.append(glcmMatrix, glcmEnergy, axis=0)\n",
    "    glcmMatrix = np.append(glcmMatrix, glcmCorrelation, axis=0)\n",
    "\n",
    "    return glcmMatrix.flatten().tolist()\n",
    "\n",
    "def doPCA(dataFrame, newSize=128):\n",
    "    y = dataFrame[0]\n",
    "    X = dataFrame.drop(0, axis=1).values\n",
    "\n",
    "    pca = decomposition.PCA(n_components=newSize)\n",
    "    pca.fit(X)\n",
    "\n",
    "    XPCA = pca.transform(X)\n",
    "\n",
    "    dataFramePCA = pd.DataFrame(XPCA)\n",
    "    dataFramePCA['Classe'] = y\n",
    "    dataFramePCA = dataFramePCA[['Classe'] + dataFramePCA.columns[:-1].tolist()]\n",
    "    \n",
    "    return dataFramePCA\n",
    "\n",
    "def doKnn(X_train, y_train, X_teste, y_teste, MAX_K=30):\n",
    "    range_k = np.arange(1, MAX_K, 1)\n",
    "    scores = {}\n",
    "\n",
    "    for k in range_k:\n",
    "        knn = KNeighborsClassifier(n_neighbors=k)\n",
    "        knn.fit(X_train, y_train)\n",
    "        y_pred = knn.predict(X_teste)\n",
    "\n",
    "        scores[k] = metrics.accuracy_score(y_teste, y_pred)\n",
    "    \n",
    "    return scores, range_k"
   ]
  },
  {
   "cell_type": "code",
   "execution_count": 3,
   "metadata": {},
   "outputs": [],
   "source": [
    "maxH = 2073\n",
    "maxW = 2339\n",
    "dataTeste = []\n",
    "dataTreino = []\n",
    "\n",
    "angle_step = np.pi/4\n",
    "angle_end = np.pi\n",
    "angles_range = np.arange(0, angle_end, angle_step)\n",
    "\n",
    "def run(Image):\n",
    "    \n",
    "    # Redimensiona a imagem para 2339x2073\n",
    "    ImageResize = Image.resize((maxW, maxH))\n",
    "\n",
    "    # Converte a imagem para um array\n",
    "    ImageArray = np.asarray(ImageResize.convert('L'))\n",
    "\n",
    "    # Aplica o LBP\n",
    "    lbp = doLBP(ImageArray)\n",
    "\n",
    "    # Aplica o GLCM\n",
    "    glcm = doGLCM(ImageArray, angles_range)\n",
    "\n",
    "    return lbp, glcm\n",
    "\n",
    "def runPartition(Image, nPartitions):\n",
    "    \n",
    "    lbp = []\n",
    "    glcm = []\n",
    "\n",
    "    # Redimensiona a imagem para 2339x2073\n",
    "    ImageResize = Image.resize((maxW, maxH))\n",
    "\n",
    "    # Converte a imagem para um array\n",
    "    ImageArray = np.asarray(ImageResize.convert('L'))\n",
    "\n",
    "    tamPartition = len(ImageArray)/nPartitions\n",
    "    posI = 0\n",
    "    posF = tamPartition\n",
    "\n",
    "    while posF <= len(ImageArray):\n",
    "\n",
    "        # Aplica o LBP\n",
    "        lbp += doLBP(ImageArray[int(posI):int(posF)])\n",
    "\n",
    "        # Aplica o GLCM\n",
    "        glcm += doGLCM(ImageArray[int(posI):int(posF)], angles_range)\n",
    "\n",
    "        posI += tamPartition\n",
    "        posF += tamPartition\n",
    "        \n",
    "    return lbp, glcm\n",
    "\n",
    "def returnData(Image, partition, nPartitions):\n",
    "    return run(Image) if partition else runPartition(Image, nPartitions)\n",
    "\n",
    "'''\n",
    "    partition: True - Particiona a imagem em quadrantes\n",
    "    nPartitions: Quantidade de quadrantes\n",
    "    limit: Quantidade de classes a serem processadas\n",
    "'''\n",
    "def generateData(partition=False, nPartitions=2, limit=0):\n",
    "\n",
    "    files = os.listdir(dataDir)\n",
    "    limit = len(files) if limit == 0 else limit\n",
    "\n",
    "    for i, dir in enumerate(files[:limit]):\n",
    "        \n",
    "        # Lista todas as imagens do direttório\n",
    "        images = os.listdir(f'{dataDir}/{dir}/')\n",
    "\n",
    "        # Abrir as imagens de treino e teste\n",
    "        ImageDefaultTreino = Image.open(f'{dataDir}/{dir}/{images[0]}')\n",
    "        ImageDefaultTeste = Image.open(f'{dataDir}/{dir}/{images[1]}')\n",
    "\n",
    "        lbp, glcm = returnData(ImageDefaultTreino, partition, nPartitions)\n",
    "        dataTreino.append([i] + lbp + glcm)\n",
    "\n",
    "        lbp, glcm = returnData(ImageDefaultTeste, partition, nPartitions)\n",
    "        dataTeste.append([i] + lbp + glcm)\n",
    "\n",
    "    return dataTeste, dataTreino"
   ]
  },
  {
   "cell_type": "code",
   "execution_count": 4,
   "metadata": {},
   "outputs": [
    {
     "ename": "KeyboardInterrupt",
     "evalue": "",
     "output_type": "error",
     "traceback": [
      "\u001b[1;31m---------------------------------------------------------------------------\u001b[0m",
      "\u001b[1;31mKeyboardInterrupt\u001b[0m                         Traceback (most recent call last)",
      "\u001b[1;32mc:\\Users\\juanf\\Documents\\UTFPR\\InteligenciaComputacional\\Inteligencia-Computacional\\Projeto\\script.ipynb Célula: 4\u001b[0m in \u001b[0;36m<cell line: 1>\u001b[1;34m()\u001b[0m\n\u001b[1;32m----> <a href='vscode-notebook-cell:/c%3A/Users/juanf/Documents/UTFPR/InteligenciaComputacional/Inteligencia-Computacional/Projeto/script.ipynb#W3sZmlsZQ%3D%3D?line=0'>1</a>\u001b[0m dataTeste, dataTreino \u001b[39m=\u001b[39m generateData(\u001b[39mTrue\u001b[39;49;00m, \u001b[39m6\u001b[39;49m, \u001b[39m100\u001b[39;49m)\n",
      "\u001b[1;32mc:\\Users\\juanf\\Documents\\UTFPR\\InteligenciaComputacional\\Inteligencia-Computacional\\Projeto\\script.ipynb Célula: 4\u001b[0m in \u001b[0;36mgenerateData\u001b[1;34m(partition, nPartitions, limit)\u001b[0m\n\u001b[0;32m     <a href='vscode-notebook-cell:/c%3A/Users/juanf/Documents/UTFPR/InteligenciaComputacional/Inteligencia-Computacional/Projeto/script.ipynb#W3sZmlsZQ%3D%3D?line=75'>76</a>\u001b[0m     lbp, glcm \u001b[39m=\u001b[39m returnData(ImageDefaultTreino, partition, nPartitions)\n\u001b[0;32m     <a href='vscode-notebook-cell:/c%3A/Users/juanf/Documents/UTFPR/InteligenciaComputacional/Inteligencia-Computacional/Projeto/script.ipynb#W3sZmlsZQ%3D%3D?line=76'>77</a>\u001b[0m     dataTreino\u001b[39m.\u001b[39mappend([i] \u001b[39m+\u001b[39m lbp \u001b[39m+\u001b[39m glcm)\n\u001b[1;32m---> <a href='vscode-notebook-cell:/c%3A/Users/juanf/Documents/UTFPR/InteligenciaComputacional/Inteligencia-Computacional/Projeto/script.ipynb#W3sZmlsZQ%3D%3D?line=78'>79</a>\u001b[0m     lbp, glcm \u001b[39m=\u001b[39m returnData(ImageDefaultTeste, partition, nPartitions)\n\u001b[0;32m     <a href='vscode-notebook-cell:/c%3A/Users/juanf/Documents/UTFPR/InteligenciaComputacional/Inteligencia-Computacional/Projeto/script.ipynb#W3sZmlsZQ%3D%3D?line=79'>80</a>\u001b[0m     dataTeste\u001b[39m.\u001b[39mappend([i] \u001b[39m+\u001b[39m lbp \u001b[39m+\u001b[39m glcm)\n\u001b[0;32m     <a href='vscode-notebook-cell:/c%3A/Users/juanf/Documents/UTFPR/InteligenciaComputacional/Inteligencia-Computacional/Projeto/script.ipynb#W3sZmlsZQ%3D%3D?line=81'>82</a>\u001b[0m \u001b[39mreturn\u001b[39;00m dataTeste, dataTreino\n",
      "\u001b[1;32mc:\\Users\\juanf\\Documents\\UTFPR\\InteligenciaComputacional\\Inteligencia-Computacional\\Projeto\\script.ipynb Célula: 4\u001b[0m in \u001b[0;36mreturnData\u001b[1;34m(Image, partition, nPartitions)\u001b[0m\n\u001b[0;32m     <a href='vscode-notebook-cell:/c%3A/Users/juanf/Documents/UTFPR/InteligenciaComputacional/Inteligencia-Computacional/Projeto/script.ipynb#W3sZmlsZQ%3D%3D?line=53'>54</a>\u001b[0m \u001b[39mdef\u001b[39;00m \u001b[39mreturnData\u001b[39m(Image, partition, nPartitions):\n\u001b[1;32m---> <a href='vscode-notebook-cell:/c%3A/Users/juanf/Documents/UTFPR/InteligenciaComputacional/Inteligencia-Computacional/Projeto/script.ipynb#W3sZmlsZQ%3D%3D?line=54'>55</a>\u001b[0m     \u001b[39mreturn\u001b[39;00m run(Image) \u001b[39mif\u001b[39;00m partition \u001b[39melse\u001b[39;00m runPartition(Image, nPartitions)\n",
      "\u001b[1;32mc:\\Users\\juanf\\Documents\\UTFPR\\InteligenciaComputacional\\Inteligencia-Computacional\\Projeto\\script.ipynb Célula: 4\u001b[0m in \u001b[0;36mrun\u001b[1;34m(Image)\u001b[0m\n\u001b[0;32m     <a href='vscode-notebook-cell:/c%3A/Users/juanf/Documents/UTFPR/InteligenciaComputacional/Inteligencia-Computacional/Projeto/script.ipynb#W3sZmlsZQ%3D%3D?line=18'>19</a>\u001b[0m lbp \u001b[39m=\u001b[39m doLBP(ImageArray)\n\u001b[0;32m     <a href='vscode-notebook-cell:/c%3A/Users/juanf/Documents/UTFPR/InteligenciaComputacional/Inteligencia-Computacional/Projeto/script.ipynb#W3sZmlsZQ%3D%3D?line=20'>21</a>\u001b[0m \u001b[39m# Aplica o GLCM\u001b[39;00m\n\u001b[1;32m---> <a href='vscode-notebook-cell:/c%3A/Users/juanf/Documents/UTFPR/InteligenciaComputacional/Inteligencia-Computacional/Projeto/script.ipynb#W3sZmlsZQ%3D%3D?line=21'>22</a>\u001b[0m glcm \u001b[39m=\u001b[39m doGLCM(ImageArray, angles_range)\n\u001b[0;32m     <a href='vscode-notebook-cell:/c%3A/Users/juanf/Documents/UTFPR/InteligenciaComputacional/Inteligencia-Computacional/Projeto/script.ipynb#W3sZmlsZQ%3D%3D?line=23'>24</a>\u001b[0m \u001b[39mreturn\u001b[39;00m lbp, glcm\n",
      "\u001b[1;32mc:\\Users\\juanf\\Documents\\UTFPR\\InteligenciaComputacional\\Inteligencia-Computacional\\Projeto\\script.ipynb Célula: 4\u001b[0m in \u001b[0;36mdoGLCM\u001b[1;34m(ImageArray, angles_range)\u001b[0m\n\u001b[0;32m      <a href='vscode-notebook-cell:/c%3A/Users/juanf/Documents/UTFPR/InteligenciaComputacional/Inteligencia-Computacional/Projeto/script.ipynb#W3sZmlsZQ%3D%3D?line=7'>8</a>\u001b[0m \u001b[39mdef\u001b[39;00m \u001b[39mdoGLCM\u001b[39m(ImageArray, angles_range):\n\u001b[0;32m      <a href='vscode-notebook-cell:/c%3A/Users/juanf/Documents/UTFPR/InteligenciaComputacional/Inteligencia-Computacional/Projeto/script.ipynb#W3sZmlsZQ%3D%3D?line=8'>9</a>\u001b[0m     glcmMatrix \u001b[39m=\u001b[39m np\u001b[39m.\u001b[39mempty((\u001b[39m0\u001b[39m,\u001b[39mlen\u001b[39m(angles_range)),\u001b[39mfloat\u001b[39m)\n\u001b[1;32m---> <a href='vscode-notebook-cell:/c%3A/Users/juanf/Documents/UTFPR/InteligenciaComputacional/Inteligencia-Computacional/Projeto/script.ipynb#W3sZmlsZQ%3D%3D?line=9'>10</a>\u001b[0m     glcm \u001b[39m=\u001b[39m graycomatrix(ImageArray, distances\u001b[39m=\u001b[39;49m\u001b[39mrange\u001b[39;49m(\u001b[39m0\u001b[39;49m,\u001b[39m100\u001b[39;49m,\u001b[39m2\u001b[39;49m), angles\u001b[39m=\u001b[39;49mangles_range, levels\u001b[39m=\u001b[39;49m\u001b[39m256\u001b[39;49m, symmetric\u001b[39m=\u001b[39;49m\u001b[39mTrue\u001b[39;49;00m, normed\u001b[39m=\u001b[39;49m\u001b[39mTrue\u001b[39;49;00m)\n\u001b[0;32m     <a href='vscode-notebook-cell:/c%3A/Users/juanf/Documents/UTFPR/InteligenciaComputacional/Inteligencia-Computacional/Projeto/script.ipynb#W3sZmlsZQ%3D%3D?line=11'>12</a>\u001b[0m     glcmContrast \u001b[39m=\u001b[39m graycoprops(glcm, \u001b[39m'\u001b[39m\u001b[39mcontrast\u001b[39m\u001b[39m'\u001b[39m)\n\u001b[0;32m     <a href='vscode-notebook-cell:/c%3A/Users/juanf/Documents/UTFPR/InteligenciaComputacional/Inteligencia-Computacional/Projeto/script.ipynb#W3sZmlsZQ%3D%3D?line=12'>13</a>\u001b[0m     glcmDissimilarity \u001b[39m=\u001b[39m graycoprops(glcm, \u001b[39m'\u001b[39m\u001b[39mdissimilarity\u001b[39m\u001b[39m'\u001b[39m)\n",
      "File \u001b[1;32mc:\\Ferramentas\\Python\\lib\\site-packages\\skimage\\feature\\texture.py:142\u001b[0m, in \u001b[0;36mgraycomatrix\u001b[1;34m(image, distances, angles, levels, symmetric, normed)\u001b[0m\n\u001b[0;32m    138\u001b[0m P \u001b[39m=\u001b[39m np\u001b[39m.\u001b[39mzeros((levels, levels, \u001b[39mlen\u001b[39m(distances), \u001b[39mlen\u001b[39m(angles)),\n\u001b[0;32m    139\u001b[0m              dtype\u001b[39m=\u001b[39mnp\u001b[39m.\u001b[39muint32, order\u001b[39m=\u001b[39m\u001b[39m'\u001b[39m\u001b[39mC\u001b[39m\u001b[39m'\u001b[39m)\n\u001b[0;32m    141\u001b[0m \u001b[39m# count co-occurences\u001b[39;00m\n\u001b[1;32m--> 142\u001b[0m _glcm_loop(image, distances, angles, levels, P)\n\u001b[0;32m    144\u001b[0m \u001b[39m# make each GLMC symmetric\u001b[39;00m\n\u001b[0;32m    145\u001b[0m \u001b[39mif\u001b[39;00m symmetric:\n",
      "\u001b[1;31mKeyboardInterrupt\u001b[0m: "
     ]
    }
   ],
   "source": [
    "dataTeste, dataTreino = generateData(True, 6, 100)"
   ]
  },
  {
   "cell_type": "code",
   "execution_count": null,
   "metadata": {},
   "outputs": [],
   "source": [
    "dataFrameTreino = pd.DataFrame(dataTreino)\n",
    "dataFrameTeste = pd.DataFrame(dataTeste)\n",
    "\n",
    "dataFrameTreino.to_csv('data_treino.csv', index=False)\n",
    "dataFrameTeste.to_csv('data_teste.csv', index=False)"
   ]
  },
  {
   "cell_type": "code",
   "execution_count": null,
   "metadata": {},
   "outputs": [],
   "source": [
    "PCATreino = doPCA(dataFrameTreino, newSize if len(dataFrameTreino) > newSize else len(dataFrameTreino))\n",
    "PCATeste = doPCA(dataFrameTeste, newSize if len(dataFrameTeste) > newSize else len(dataFrameTeste))"
   ]
  },
  {
   "cell_type": "code",
   "execution_count": null,
   "metadata": {},
   "outputs": [],
   "source": [
    "scores, range_k = doKnn(PCATreino.drop(['Classe'], axis=1).values, PCATreino['Classe'].values, PCATeste.drop(['Classe'], axis=1).values, PCATeste['Classe'].values, 30 if len(dataFrameTeste) > 30 else len(dataFrameTeste)-1)"
   ]
  },
  {
   "cell_type": "code",
   "execution_count": null,
   "metadata": {},
   "outputs": [
    {
     "data": {
      "text/plain": [
       "{1: 0.14,\n",
       " 2: 0.11,\n",
       " 3: 0.11,\n",
       " 4: 0.1,\n",
       " 5: 0.08,\n",
       " 6: 0.07,\n",
       " 7: 0.06,\n",
       " 8: 0.06,\n",
       " 9: 0.05,\n",
       " 10: 0.05,\n",
       " 11: 0.06,\n",
       " 12: 0.05,\n",
       " 13: 0.04,\n",
       " 14: 0.04,\n",
       " 15: 0.04,\n",
       " 16: 0.05,\n",
       " 17: 0.05,\n",
       " 18: 0.06,\n",
       " 19: 0.06,\n",
       " 20: 0.04,\n",
       " 21: 0.04,\n",
       " 22: 0.04,\n",
       " 23: 0.05,\n",
       " 24: 0.05,\n",
       " 25: 0.05,\n",
       " 26: 0.05,\n",
       " 27: 0.04,\n",
       " 28: 0.04,\n",
       " 29: 0.04}"
      ]
     },
     "execution_count": 19,
     "metadata": {},
     "output_type": "execute_result"
    }
   ],
   "source": [
    "scores"
   ]
  }
 ],
 "metadata": {
  "kernelspec": {
   "display_name": "Python 3.10.1 64-bit",
   "language": "python",
   "name": "python3"
  },
  "language_info": {
   "codemirror_mode": {
    "name": "ipython",
    "version": 3
   },
   "file_extension": ".py",
   "mimetype": "text/x-python",
   "name": "python",
   "nbconvert_exporter": "python",
   "pygments_lexer": "ipython3",
   "version": "3.10.1"
  },
  "orig_nbformat": 4,
  "vscode": {
   "interpreter": {
    "hash": "5f8436ca69605a966ff79010098809a12c5976760e976a925ddbd71d745a4499"
   }
  }
 },
 "nbformat": 4,
 "nbformat_minor": 2
}
