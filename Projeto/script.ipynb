{
 "cells": [
  {
   "cell_type": "code",
   "execution_count": 1,
   "metadata": {},
   "outputs": [
    {
     "name": "stderr",
     "output_type": "stream",
     "text": [
      "c:\\ferramentass\\Python3.9\\lib\\site-packages\\numpy\\_distributor_init.py:30: UserWarning: loaded more than 1 DLL from .libs:\n",
      "c:\\ferramentass\\Python3.9\\lib\\site-packages\\numpy\\.libs\\libopenblas.WCDJNK7YVMPZQ2ME2ZZHJJRJ3JIKNDB7.gfortran-win_amd64.dll\n",
      "c:\\ferramentass\\Python3.9\\lib\\site-packages\\numpy\\.libs\\libopenblas.XWYDX2IKJW2NMTWSFYNGFUWKQU3LYTCZ.gfortran-win_amd64.dll\n",
      "  warnings.warn(\"loaded more than 1 DLL from .libs:\"\n"
     ]
    }
   ],
   "source": [
    "from skimage.feature import graycomatrix, graycoprops\n",
    "from sklearn.neighbors import KNeighborsClassifier\n",
    "from skimage.feature import local_binary_pattern\n",
    "from scipy.stats import chisquare\n",
    "from sklearn import decomposition\n",
    "from skimage.feature import SIFT\n",
    "from sklearn import metrics\n",
    "from sklearn.svm import SVC\n",
    "from PIL import Image\n",
    "import pandas as pd\n",
    "import numpy as np\n",
    "import os\n",
    "\n",
    "newSize = 128 # Dimensão 128, 64, 32, 16, 8\n",
    "dataDir = './data'"
   ]
  },
  {
   "cell_type": "code",
   "execution_count": 2,
   "metadata": {},
   "outputs": [],
   "source": [
    "def doLBP(ImageArray):\n",
    "    lbp = local_binary_pattern(ImageArray, 3, 8 * 3)\n",
    "    n_bins = int(lbp.max() + 1)\n",
    "    hist, _ = np.histogram(lbp, density=True, bins=n_bins, range=(0, n_bins))\n",
    "\n",
    "    return hist.tolist()\n",
    "\n",
    "def doGLCM(ImageArray, angles_range):\n",
    "    glcmMatrix = np.empty((0,len(angles_range)),float)\n",
    "    glcm = graycomatrix(ImageArray, distances=range(0,100,2), angles=angles_range, levels=256, symmetric=True, normed=True)\n",
    "    \n",
    "    glcmContrast = graycoprops(glcm, 'contrast')\n",
    "    glcmDissimilarity = graycoprops(glcm, 'dissimilarity')\n",
    "    glcmHomogeneity = graycoprops(glcm, 'homogeneity')\n",
    "    glcmASM = graycoprops(glcm, 'ASM')\n",
    "    glcmEnergy = graycoprops(glcm, 'energy')\n",
    "    glcmCorrelation = graycoprops(glcm, 'correlation')\n",
    "\n",
    "    glcmMatrix = np.append(glcmMatrix, glcmContrast, axis=0)\n",
    "    glcmMatrix = np.append(glcmMatrix, glcmDissimilarity, axis=0)\n",
    "    glcmMatrix = np.append(glcmMatrix, glcmHomogeneity, axis=0)\n",
    "    glcmMatrix = np.append(glcmMatrix, glcmASM, axis=0)\n",
    "    glcmMatrix = np.append(glcmMatrix, glcmEnergy, axis=0)\n",
    "    glcmMatrix = np.append(glcmMatrix, glcmCorrelation, axis=0)\n",
    "\n",
    "    return glcmMatrix.flatten().tolist()\n",
    "\n",
    "def doPCA(dataFrame, newSize=128):\n",
    "    y = dataFrame[0]\n",
    "    X = dataFrame.drop(0, axis=1).values\n",
    "\n",
    "    pca = decomposition.PCA(n_components=newSize)\n",
    "    pca.fit(X)\n",
    "\n",
    "    XPCA = pca.transform(X)\n",
    "\n",
    "    dataFramePCA = pd.DataFrame(XPCA)\n",
    "    dataFramePCA['Classe'] = y\n",
    "    dataFramePCA = dataFramePCA[['Classe'] + dataFramePCA.columns[:-1].tolist()]\n",
    "    \n",
    "    return dataFramePCA\n",
    "\n",
    "def doKnn(X_train, y_train, X_teste, y_teste, MAX_K=30):\n",
    "    range_k = np.arange(1, MAX_K, 1)\n",
    "    scores = {}\n",
    "\n",
    "    for k in range_k:\n",
    "        knn = KNeighborsClassifier(n_neighbors=k)\n",
    "        knn.fit(X_train, y_train)\n",
    "        y_pred = knn.predict(X_teste)\n",
    "\n",
    "        scores[k] = metrics.accuracy_score(y_teste, y_pred)\n",
    "    \n",
    "    return scores, range_k\n",
    "\n",
    "def doCVM(X_train, y_train, X_teste, y_teste, c=1.0, gamma='scale'):\n",
    "    svm = SVC(C=c, gamma=gamma)\n",
    "    svm.fit(X_train, y_train)\n",
    "\n",
    "    return svm.score(X_teste, y_teste)\n",
    "    \n",
    "def doSTIF(ImageArray):\n",
    "    sift = SIFT()\n",
    "    sift.detect_and_extract(ImageArray)\n",
    "\n",
    "    return sift.descriptors.flatten().tolist()\n",
    "\n",
    "def doChisquare(Image):\n",
    "    return chisquare(Image)[0].tolist()"
   ]
  },
  {
   "cell_type": "code",
   "execution_count": 3,
   "metadata": {},
   "outputs": [],
   "source": [
    "maxH = 2073\n",
    "maxW = 2339\n",
    "dataTeste = []\n",
    "dataTreino = []\n",
    "\n",
    "angle_step = np.pi/4\n",
    "angle_end = np.pi\n",
    "angles_range = np.arange(0, angle_end, angle_step)\n",
    "\n",
    "def run(Image):\n",
    "\n",
    "    # Redimensiona a imagem para 2339x2073\n",
    "    ImageResize = Image.resize((maxW, maxH))\n",
    "\n",
    "    # Converte a imagem para um array\n",
    "    ImageArray = np.asarray(ImageResize.convert('L'))\n",
    "\n",
    "    # Aplica o LBP\n",
    "    lbp = doLBP(ImageArray)\n",
    "\n",
    "    # Aplica o GLCM\n",
    "    glcm = doGLCM(ImageArray, angles_range)\n",
    "\n",
    "    # Aplica o STIF\n",
    "    stif = doSTIF(ImageArray)\n",
    "\n",
    "    # Aplica o Chisquare\n",
    "    chisquare = doChisquare(ImageArray)\n",
    "\n",
    "    return lbp, glcm, stif, chisquare\n",
    "\n",
    "def runPartition(Image, nPartitions):\n",
    "    \n",
    "    lbp = []\n",
    "    glcm = []\n",
    "    stif = []\n",
    "    chisquare = []\n",
    "\n",
    "    # Redimensiona a imagem para 2339x2073\n",
    "    ImageResize = Image.resize((maxW, maxH))\n",
    "\n",
    "    # Converte a imagem para um array\n",
    "    ImageArray = np.asarray(ImageResize.convert('L'))\n",
    "\n",
    "    tamPartition = len(ImageArray)/nPartitions\n",
    "    posI = 0\n",
    "    posF = tamPartition\n",
    "\n",
    "    while posF <= len(ImageArray):\n",
    "\n",
    "        # Aplica o LBP\n",
    "        lbp += doLBP(ImageArray[int(posI):int(posF)])\n",
    "\n",
    "        # Aplica o GLCM\n",
    "        glcm += doGLCM(ImageArray[int(posI):int(posF)], angles_range)\n",
    "\n",
    "        # Aplica o STIF\n",
    "        stif += doSTIF(ImageArray[int(posI):int(posF)])\n",
    "\n",
    "        # Aplica o Chisquare\n",
    "        chisquare += doChisquare(ImageArray[int(posI):int(posF)])\n",
    "\n",
    "        posI += tamPartition\n",
    "        posF += tamPartition\n",
    "        \n",
    "    return lbp, glcm, stif, chisquare\n",
    "\n",
    "def returnData(Image, partition, nPartitions):\n",
    "    return run(Image) if not partition else runPartition(Image, nPartitions)\n",
    "\n",
    "'''\n",
    "    partition: True - Particiona a imagem em quadrantes\n",
    "    nPartitions: Quantidade de quadrantes\n",
    "    limit: Quantidade de classes a serem processadas\n",
    "'''\n",
    "\n",
    "def generateData(partition=False, nPartitions=2, limit=0):\n",
    "\n",
    "    files = os.listdir(dataDir)\n",
    "    limit = len(files) if limit == 0 else limit\n",
    "\n",
    "    for i, dir in enumerate(files[:limit]):\n",
    "        print(f'Run image n° {i}...')\n",
    "\n",
    "        # Lista todas as imagens do direttório\n",
    "        images = os.listdir(f'{dataDir}/{dir}/')\n",
    "\n",
    "        # Abrir as imagens de treino e teste\n",
    "        ImageDefaultTreino = Image.open(f'{dataDir}/{dir}/{images[0]}')\n",
    "        ImageDefaultTeste = Image.open(f'{dataDir}/{dir}/{images[1]}')\n",
    "\n",
    "        lbp, glcm, stif, chisquare = returnData(ImageDefaultTreino, partition, nPartitions)\n",
    "        dataTreino.append([i] + lbp + glcm + stif + chisquare)\n",
    "\n",
    "        lbp, glcm, stif, chisquare = returnData(ImageDefaultTeste, partition, nPartitions)\n",
    "        dataTeste.append([i] + lbp + glcm + stif + chisquare)\n",
    "\n",
    "    return dataTeste, dataTreino"
   ]
  },
  {
   "cell_type": "code",
   "execution_count": 4,
   "metadata": {},
   "outputs": [
    {
     "name": "stdout",
     "output_type": "stream",
     "text": [
      "Run image n° 0...\n",
      "Run image n° 1...\n",
      "Run image n° 2...\n",
      "Run image n° 3...\n",
      "Run image n° 4...\n",
      "Run image n° 5...\n",
      "Run image n° 6...\n",
      "Run image n° 7...\n",
      "Run image n° 8...\n",
      "Run image n° 9...\n"
     ]
    }
   ],
   "source": [
    "dataTeste, dataTreino = generateData(True, 3, 0)"
   ]
  },
  {
   "cell_type": "code",
   "execution_count": 5,
   "metadata": {},
   "outputs": [],
   "source": [
    "dataFrameTreino = pd.DataFrame(dataTreino)\n",
    "dataFrameTeste = pd.DataFrame(dataTeste)\n",
    "\n",
    "dataFrameTreino = dataFrameTreino.fillna(0)\n",
    "dataFrameTeste = dataFrameTeste.fillna(0)\n",
    "\n",
    "dataFrameTreino.to_csv('data_treino.csv', index=False)\n",
    "dataFrameTeste.to_csv('data_teste.csv', index=False)"
   ]
  },
  {
   "cell_type": "code",
   "execution_count": 1,
   "metadata": {},
   "outputs": [
    {
     "ename": "NameError",
     "evalue": "name 'doPCA' is not defined",
     "output_type": "error",
     "traceback": [
      "\u001b[1;31m---------------------------------------------------------------------------\u001b[0m",
      "\u001b[1;31mNameError\u001b[0m                                 Traceback (most recent call last)",
      "\u001b[1;32m~\\AppData\\Local\\Temp/ipykernel_6076/596671639.py\u001b[0m in \u001b[0;36m<module>\u001b[1;34m\u001b[0m\n\u001b[0;32m      1\u001b[0m \u001b[0mnewSize\u001b[0m \u001b[1;33m=\u001b[0m \u001b[1;36m128\u001b[0m \u001b[1;31m# Dimensão 128, 64, 32, 16, 8\u001b[0m\u001b[1;33m\u001b[0m\u001b[1;33m\u001b[0m\u001b[0m\n\u001b[1;32m----> 2\u001b[1;33m \u001b[0mPCATreino\u001b[0m \u001b[1;33m=\u001b[0m \u001b[0mdoPCA\u001b[0m\u001b[1;33m(\u001b[0m\u001b[0mdataFrameTreino\u001b[0m\u001b[1;33m,\u001b[0m \u001b[0mnewSize\u001b[0m \u001b[1;32mif\u001b[0m \u001b[0mlen\u001b[0m\u001b[1;33m(\u001b[0m\u001b[0mdataFrameTreino\u001b[0m\u001b[1;33m)\u001b[0m \u001b[1;33m>\u001b[0m \u001b[0mnewSize\u001b[0m \u001b[1;32melse\u001b[0m \u001b[0mlen\u001b[0m\u001b[1;33m(\u001b[0m\u001b[0mdataFrameTreino\u001b[0m\u001b[1;33m)\u001b[0m\u001b[1;33m)\u001b[0m\u001b[1;33m\u001b[0m\u001b[1;33m\u001b[0m\u001b[0m\n\u001b[0m\u001b[0;32m      3\u001b[0m \u001b[0mPCATeste\u001b[0m \u001b[1;33m=\u001b[0m \u001b[0mdoPCA\u001b[0m\u001b[1;33m(\u001b[0m\u001b[0mdataFrameTeste\u001b[0m\u001b[1;33m,\u001b[0m \u001b[0mnewSize\u001b[0m \u001b[1;32mif\u001b[0m \u001b[0mlen\u001b[0m\u001b[1;33m(\u001b[0m\u001b[0mdataFrameTeste\u001b[0m\u001b[1;33m)\u001b[0m \u001b[1;33m>\u001b[0m \u001b[0mnewSize\u001b[0m \u001b[1;32melse\u001b[0m \u001b[0mlen\u001b[0m\u001b[1;33m(\u001b[0m\u001b[0mdataFrameTeste\u001b[0m\u001b[1;33m)\u001b[0m\u001b[1;33m)\u001b[0m\u001b[1;33m\u001b[0m\u001b[1;33m\u001b[0m\u001b[0m\n",
      "\u001b[1;31mNameError\u001b[0m: name 'doPCA' is not defined"
     ]
    }
   ],
   "source": [
    "newSize = 128 # Dimensão 128, 64, 32, 16, 8\n",
    "PCATreino = doPCA(dataFrameTreino, newSize if len(dataFrameTreino) > newSize else len(dataFrameTreino))\n",
    "PCATeste = doPCA(dataFrameTeste, newSize if len(dataFrameTeste) > newSize else len(dataFrameTeste))"
   ]
  },
  {
   "cell_type": "code",
   "execution_count": 30,
   "metadata": {},
   "outputs": [
    {
     "ename": "ValueError",
     "evalue": "X has 2082907 features, but KNeighborsClassifier is expecting 1987035 features as input.",
     "output_type": "error",
     "traceback": [
      "\u001b[1;31m---------------------------------------------------------------------------\u001b[0m",
      "\u001b[1;31mValueError\u001b[0m                                Traceback (most recent call last)",
      "\u001b[1;32m~\\AppData\\Local\\Temp/ipykernel_11992/3942463768.py\u001b[0m in \u001b[0;36m<module>\u001b[1;34m\u001b[0m\n\u001b[1;32m----> 1\u001b[1;33m \u001b[0mscores\u001b[0m\u001b[1;33m,\u001b[0m \u001b[0mrange_k\u001b[0m \u001b[1;33m=\u001b[0m \u001b[0mdoKnn\u001b[0m\u001b[1;33m(\u001b[0m\u001b[0mPCATreino\u001b[0m\u001b[1;33m.\u001b[0m\u001b[0mdrop\u001b[0m\u001b[1;33m(\u001b[0m\u001b[1;33m[\u001b[0m\u001b[1;34m'Classe'\u001b[0m\u001b[1;33m]\u001b[0m\u001b[1;33m,\u001b[0m \u001b[0maxis\u001b[0m\u001b[1;33m=\u001b[0m\u001b[1;36m1\u001b[0m\u001b[1;33m)\u001b[0m\u001b[1;33m.\u001b[0m\u001b[0mvalues\u001b[0m\u001b[1;33m,\u001b[0m \u001b[0mPCATreino\u001b[0m\u001b[1;33m[\u001b[0m\u001b[1;34m'Classe'\u001b[0m\u001b[1;33m]\u001b[0m\u001b[1;33m.\u001b[0m\u001b[0mvalues\u001b[0m\u001b[1;33m,\u001b[0m \u001b[0mPCATeste\u001b[0m\u001b[1;33m.\u001b[0m\u001b[0mdrop\u001b[0m\u001b[1;33m(\u001b[0m\u001b[1;33m[\u001b[0m\u001b[1;34m'Classe'\u001b[0m\u001b[1;33m]\u001b[0m\u001b[1;33m,\u001b[0m \u001b[0maxis\u001b[0m\u001b[1;33m=\u001b[0m\u001b[1;36m1\u001b[0m\u001b[1;33m)\u001b[0m\u001b[1;33m.\u001b[0m\u001b[0mvalues\u001b[0m\u001b[1;33m,\u001b[0m \u001b[0mPCATeste\u001b[0m\u001b[1;33m[\u001b[0m\u001b[1;34m'Classe'\u001b[0m\u001b[1;33m]\u001b[0m\u001b[1;33m.\u001b[0m\u001b[0mvalues\u001b[0m\u001b[1;33m,\u001b[0m \u001b[1;36m30\u001b[0m \u001b[1;32mif\u001b[0m \u001b[0mlen\u001b[0m\u001b[1;33m(\u001b[0m\u001b[0mdataFrameTeste\u001b[0m\u001b[1;33m)\u001b[0m \u001b[1;33m>\u001b[0m \u001b[1;36m30\u001b[0m \u001b[1;32melse\u001b[0m \u001b[0mlen\u001b[0m\u001b[1;33m(\u001b[0m\u001b[0mdataFrameTeste\u001b[0m\u001b[1;33m)\u001b[0m\u001b[1;33m-\u001b[0m\u001b[1;36m1\u001b[0m\u001b[1;33m)\u001b[0m\u001b[1;33m\u001b[0m\u001b[1;33m\u001b[0m\u001b[0m\n\u001b[0m\u001b[0;32m      2\u001b[0m \u001b[0mscores\u001b[0m\u001b[1;33m\u001b[0m\u001b[1;33m\u001b[0m\u001b[0m\n",
      "\u001b[1;32m~\\AppData\\Local\\Temp/ipykernel_11992/4122253143.py\u001b[0m in \u001b[0;36mdoKnn\u001b[1;34m(X_train, y_train, X_teste, y_teste, MAX_K)\u001b[0m\n\u001b[0;32m     48\u001b[0m         \u001b[0mknn\u001b[0m \u001b[1;33m=\u001b[0m \u001b[0mKNeighborsClassifier\u001b[0m\u001b[1;33m(\u001b[0m\u001b[0mn_neighbors\u001b[0m\u001b[1;33m=\u001b[0m\u001b[0mk\u001b[0m\u001b[1;33m)\u001b[0m\u001b[1;33m\u001b[0m\u001b[1;33m\u001b[0m\u001b[0m\n\u001b[0;32m     49\u001b[0m         \u001b[0mknn\u001b[0m\u001b[1;33m.\u001b[0m\u001b[0mfit\u001b[0m\u001b[1;33m(\u001b[0m\u001b[0mX_train\u001b[0m\u001b[1;33m,\u001b[0m \u001b[0my_train\u001b[0m\u001b[1;33m)\u001b[0m\u001b[1;33m\u001b[0m\u001b[1;33m\u001b[0m\u001b[0m\n\u001b[1;32m---> 50\u001b[1;33m         \u001b[0my_pred\u001b[0m \u001b[1;33m=\u001b[0m \u001b[0mknn\u001b[0m\u001b[1;33m.\u001b[0m\u001b[0mpredict\u001b[0m\u001b[1;33m(\u001b[0m\u001b[0mX_teste\u001b[0m\u001b[1;33m)\u001b[0m\u001b[1;33m\u001b[0m\u001b[1;33m\u001b[0m\u001b[0m\n\u001b[0m\u001b[0;32m     51\u001b[0m \u001b[1;33m\u001b[0m\u001b[0m\n\u001b[0;32m     52\u001b[0m         \u001b[0mscores\u001b[0m\u001b[1;33m[\u001b[0m\u001b[0mk\u001b[0m\u001b[1;33m]\u001b[0m \u001b[1;33m=\u001b[0m \u001b[0mmetrics\u001b[0m\u001b[1;33m.\u001b[0m\u001b[0maccuracy_score\u001b[0m\u001b[1;33m(\u001b[0m\u001b[0my_teste\u001b[0m\u001b[1;33m,\u001b[0m \u001b[0my_pred\u001b[0m\u001b[1;33m)\u001b[0m\u001b[1;33m\u001b[0m\u001b[1;33m\u001b[0m\u001b[0m\n",
      "\u001b[1;32mc:\\ferramentass\\Python3.9\\lib\\site-packages\\sklearn\\neighbors\\_classification.py\u001b[0m in \u001b[0;36mpredict\u001b[1;34m(self, X)\u001b[0m\n\u001b[0;32m    217\u001b[0m             \u001b[1;31m# In that case, we do not need the distances to perform\u001b[0m\u001b[1;33m\u001b[0m\u001b[1;33m\u001b[0m\u001b[0m\n\u001b[0;32m    218\u001b[0m             \u001b[1;31m# the weighting so we do not compute them.\u001b[0m\u001b[1;33m\u001b[0m\u001b[1;33m\u001b[0m\u001b[0m\n\u001b[1;32m--> 219\u001b[1;33m             \u001b[0mneigh_ind\u001b[0m \u001b[1;33m=\u001b[0m \u001b[0mself\u001b[0m\u001b[1;33m.\u001b[0m\u001b[0mkneighbors\u001b[0m\u001b[1;33m(\u001b[0m\u001b[0mX\u001b[0m\u001b[1;33m,\u001b[0m \u001b[0mreturn_distance\u001b[0m\u001b[1;33m=\u001b[0m\u001b[1;32mFalse\u001b[0m\u001b[1;33m)\u001b[0m\u001b[1;33m\u001b[0m\u001b[1;33m\u001b[0m\u001b[0m\n\u001b[0m\u001b[0;32m    220\u001b[0m             \u001b[0mneigh_dist\u001b[0m \u001b[1;33m=\u001b[0m \u001b[1;32mNone\u001b[0m\u001b[1;33m\u001b[0m\u001b[1;33m\u001b[0m\u001b[0m\n\u001b[0;32m    221\u001b[0m         \u001b[1;32melse\u001b[0m\u001b[1;33m:\u001b[0m\u001b[1;33m\u001b[0m\u001b[1;33m\u001b[0m\u001b[0m\n",
      "\u001b[1;32mc:\\ferramentass\\Python3.9\\lib\\site-packages\\sklearn\\neighbors\\_base.py\u001b[0m in \u001b[0;36mkneighbors\u001b[1;34m(self, X, n_neighbors, return_distance)\u001b[0m\n\u001b[0;32m    743\u001b[0m                 \u001b[0mX\u001b[0m \u001b[1;33m=\u001b[0m \u001b[0m_check_precomputed\u001b[0m\u001b[1;33m(\u001b[0m\u001b[0mX\u001b[0m\u001b[1;33m)\u001b[0m\u001b[1;33m\u001b[0m\u001b[1;33m\u001b[0m\u001b[0m\n\u001b[0;32m    744\u001b[0m             \u001b[1;32melse\u001b[0m\u001b[1;33m:\u001b[0m\u001b[1;33m\u001b[0m\u001b[1;33m\u001b[0m\u001b[0m\n\u001b[1;32m--> 745\u001b[1;33m                 \u001b[0mX\u001b[0m \u001b[1;33m=\u001b[0m \u001b[0mself\u001b[0m\u001b[1;33m.\u001b[0m\u001b[0m_validate_data\u001b[0m\u001b[1;33m(\u001b[0m\u001b[0mX\u001b[0m\u001b[1;33m,\u001b[0m \u001b[0maccept_sparse\u001b[0m\u001b[1;33m=\u001b[0m\u001b[1;34m\"csr\"\u001b[0m\u001b[1;33m,\u001b[0m \u001b[0mreset\u001b[0m\u001b[1;33m=\u001b[0m\u001b[1;32mFalse\u001b[0m\u001b[1;33m,\u001b[0m \u001b[0morder\u001b[0m\u001b[1;33m=\u001b[0m\u001b[1;34m\"C\"\u001b[0m\u001b[1;33m)\u001b[0m\u001b[1;33m\u001b[0m\u001b[1;33m\u001b[0m\u001b[0m\n\u001b[0m\u001b[0;32m    746\u001b[0m \u001b[1;33m\u001b[0m\u001b[0m\n\u001b[0;32m    747\u001b[0m         \u001b[0mn_samples_fit\u001b[0m \u001b[1;33m=\u001b[0m \u001b[0mself\u001b[0m\u001b[1;33m.\u001b[0m\u001b[0mn_samples_fit_\u001b[0m\u001b[1;33m\u001b[0m\u001b[1;33m\u001b[0m\u001b[0m\n",
      "\u001b[1;32mc:\\ferramentass\\Python3.9\\lib\\site-packages\\sklearn\\base.py\u001b[0m in \u001b[0;36m_validate_data\u001b[1;34m(self, X, y, reset, validate_separately, **check_params)\u001b[0m\n\u001b[0;32m    598\u001b[0m \u001b[1;33m\u001b[0m\u001b[0m\n\u001b[0;32m    599\u001b[0m         \u001b[1;32mif\u001b[0m \u001b[1;32mnot\u001b[0m \u001b[0mno_val_X\u001b[0m \u001b[1;32mand\u001b[0m \u001b[0mcheck_params\u001b[0m\u001b[1;33m.\u001b[0m\u001b[0mget\u001b[0m\u001b[1;33m(\u001b[0m\u001b[1;34m\"ensure_2d\"\u001b[0m\u001b[1;33m,\u001b[0m \u001b[1;32mTrue\u001b[0m\u001b[1;33m)\u001b[0m\u001b[1;33m:\u001b[0m\u001b[1;33m\u001b[0m\u001b[1;33m\u001b[0m\u001b[0m\n\u001b[1;32m--> 600\u001b[1;33m             \u001b[0mself\u001b[0m\u001b[1;33m.\u001b[0m\u001b[0m_check_n_features\u001b[0m\u001b[1;33m(\u001b[0m\u001b[0mX\u001b[0m\u001b[1;33m,\u001b[0m \u001b[0mreset\u001b[0m\u001b[1;33m=\u001b[0m\u001b[0mreset\u001b[0m\u001b[1;33m)\u001b[0m\u001b[1;33m\u001b[0m\u001b[1;33m\u001b[0m\u001b[0m\n\u001b[0m\u001b[0;32m    601\u001b[0m \u001b[1;33m\u001b[0m\u001b[0m\n\u001b[0;32m    602\u001b[0m         \u001b[1;32mreturn\u001b[0m \u001b[0mout\u001b[0m\u001b[1;33m\u001b[0m\u001b[1;33m\u001b[0m\u001b[0m\n",
      "\u001b[1;32mc:\\ferramentass\\Python3.9\\lib\\site-packages\\sklearn\\base.py\u001b[0m in \u001b[0;36m_check_n_features\u001b[1;34m(self, X, reset)\u001b[0m\n\u001b[0;32m    398\u001b[0m \u001b[1;33m\u001b[0m\u001b[0m\n\u001b[0;32m    399\u001b[0m         \u001b[1;32mif\u001b[0m \u001b[0mn_features\u001b[0m \u001b[1;33m!=\u001b[0m \u001b[0mself\u001b[0m\u001b[1;33m.\u001b[0m\u001b[0mn_features_in_\u001b[0m\u001b[1;33m:\u001b[0m\u001b[1;33m\u001b[0m\u001b[1;33m\u001b[0m\u001b[0m\n\u001b[1;32m--> 400\u001b[1;33m             raise ValueError(\n\u001b[0m\u001b[0;32m    401\u001b[0m                 \u001b[1;34mf\"X has {n_features} features, but {self.__class__.__name__} \"\u001b[0m\u001b[1;33m\u001b[0m\u001b[1;33m\u001b[0m\u001b[0m\n\u001b[0;32m    402\u001b[0m                 \u001b[1;34mf\"is expecting {self.n_features_in_} features as input.\"\u001b[0m\u001b[1;33m\u001b[0m\u001b[1;33m\u001b[0m\u001b[0m\n",
      "\u001b[1;31mValueError\u001b[0m: X has 2082907 features, but KNeighborsClassifier is expecting 1987035 features as input."
     ]
    }
   ],
   "source": [
    "scores, range_k = doKnn(PCATreino.drop(['Classe'], axis=1).values, PCATreino['Classe'].values, PCATeste.drop(['Classe'], axis=1).values, PCATeste['Classe'].values, 30 if len(dataFrameTeste) > 30 else len(dataFrameTeste)-1)\n",
    "scores"
   ]
  },
  {
   "cell_type": "code",
   "execution_count": 21,
   "metadata": {},
   "outputs": [
    {
     "data": {
      "text/plain": [
       "0.3"
      ]
     },
     "execution_count": 21,
     "metadata": {},
     "output_type": "execute_result"
    }
   ],
   "source": [
    "svm = doCVM(PCATreino.drop(['Classe'], axis=1).values, PCATreino['Classe'].values, PCATeste.drop(['Classe'], axis=1).values, PCATeste['Classe'].values)\n",
    "svm"
   ]
  }
 ],
 "metadata": {
  "kernelspec": {
   "display_name": "Python 3.9.7 64-bit",
   "language": "python",
   "name": "python3"
  },
  "language_info": {
   "codemirror_mode": {
    "name": "ipython",
    "version": 3
   },
   "file_extension": ".py",
   "mimetype": "text/x-python",
   "name": "python",
   "nbconvert_exporter": "python",
   "pygments_lexer": "ipython3",
   "version": "3.9.7"
  },
  "orig_nbformat": 4,
  "vscode": {
   "interpreter": {
    "hash": "397ded43423ab50173f91d648ca407046bf3aab8251a4e5cffb6ba8dc8b9667f"
   }
  }
 },
 "nbformat": 4,
 "nbformat_minor": 2
}
