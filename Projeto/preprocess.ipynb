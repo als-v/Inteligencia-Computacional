{
 "cells": [
  {
   "cell_type": "code",
   "execution_count": 1,
   "metadata": {},
   "outputs": [],
   "source": [
    "import pandas as pd\n",
    "import numpy as np\n",
    "import cv2\n",
    "import matplotlib.pyplot as plt\n",
    "import os\n",
    "from PIL import Image\n",
    "\n",
    "# dataDir = './data/000/a01-003u.png'\n",
    "dataDir = './data/000/a01-003u.png'\n",
    "dirBase = './data'"
   ]
  },
  {
   "cell_type": "markdown",
   "metadata": {},
   "source": [
    "# Pré-processamento"
   ]
  },
  {
   "cell_type": "code",
   "execution_count": 2,
   "metadata": {},
   "outputs": [],
   "source": [
    "def augmentDataset(img, folder, nameImage, train, box):\n",
    "    # Split do diretório atual para criação de uma nova base\n",
    "    trainTestFolder = \"Train\" if train else \"Test\"\n",
    "\n",
    "    # A partir das boxes criadas \n",
    "    for b in range (len(box)):\n",
    "        (x, y, w, h) = box[b]\n",
    "        \n",
    "        path = \"./data_augmented/\" + folder + \"/\"\n",
    "        pathDiscarted = \"./data_augmented_discarted/\" + folder + \"/\"\n",
    "\n",
    "        imagePath = str(b) + \"-\"  + nameImage\n",
    "        imagePathDiscarted = str(b) +  \"-\" + nameImage\n",
    "\n",
    "        if not os.path.exists(pathDiscarted):\n",
    "            os.makedirs(pathDiscarted)\n",
    "            \n",
    "        if img[y:y+h, x:x+w].shape[0] < 30 or img[y:y+h, x:x+w].shape[1] < 1000:\n",
    "\n",
    "            cv2.imwrite(pathDiscarted + \"/\" + imagePathDiscarted, img[y:y+h, x:x+w])\n",
    "        \n",
    "        else:\n",
    "            if not os.path.exists(path):\n",
    "                # print(\"Diretório não existe\")\n",
    "                os.makedirs(path)\n",
    "\n",
    "            trainTestDir = path + \"/\" + trainTestFolder + \"/\"\n",
    "            if not os.path.exists(trainTestDir):\n",
    "                os.makedirs(trainTestDir)\n",
    "\n",
    "            cv2.imwrite(trainTestDir + imagePath, img[y:y+h, x:x+w])\n",
    "\n",
    "\n",
    "def preProcess(img, dir, nameImage, train = True):\n",
    "\n",
    "    img_gray = cv2.cvtColor(img, cv2.COLOR_BGR2GRAY)\n",
    "    _, thresh = cv2.threshold(img_gray, 200, 255, cv2.THRESH_BINARY_INV)\n",
    "\n",
    "    # Aplica o processo chamado de dilation\n",
    "    kernel = cv2.getStructuringElement(cv2.MORPH_RECT, (200,3))\n",
    "    mask = cv2.morphologyEx(thresh, cv2.MORPH_DILATE, kernel)\n",
    "\n",
    "    box = []\n",
    "    contours = cv2.findContours(mask, cv2.RETR_EXTERNAL, cv2.CHAIN_APPROX_SIMPLE)\n",
    "    contours = contours[0] if len(contours) == 2 else contours[1]\n",
    "\n",
    "    imgBoundingBox = img.copy()\n",
    "    for cntr in contours:\n",
    "        x,y,w,h = cv2.boundingRect(cntr)\n",
    "        box.append((x,y,w,h))\n",
    "\n",
    "    augmentDataset(imgBoundingBox, dir, nameImage, train, box)"
   ]
  },
  {
   "cell_type": "code",
   "execution_count": 3,
   "metadata": {},
   "outputs": [],
   "source": [
    "limit = 0\n",
    "\n",
    "files = os.listdir(dirBase)\n",
    "limit = len(files) if limit == 0 else limit\n",
    "\n",
    "for i, dir in enumerate(files[:limit]):\n",
    "    imagesDir = os.listdir(f'{dirBase}/{dir}/')\n",
    "    # print(dir, imagesDir[0])\n",
    "\n",
    "    ImageDefaultTreino = cv2.imread(str(f'{dirBase}/{dir}/{imagesDir[0]}'))\n",
    "    preProcess(ImageDefaultTreino, dir, imagesDir[0], True)\n",
    "\n",
    "    ImageDefaultTeste = cv2.imread(str(f'{dirBase}/{dir}/{imagesDir[1]}'))\n",
    "    preProcess(ImageDefaultTeste, dir, imagesDir[1], False)\n",
    "    "
   ]
  }
 ],
 "metadata": {
  "kernelspec": {
   "display_name": "Python 3.10.1 64-bit",
   "language": "python",
   "name": "python3"
  },
  "language_info": {
   "codemirror_mode": {
    "name": "ipython",
    "version": 3
   },
   "file_extension": ".py",
   "mimetype": "text/x-python",
   "name": "python",
   "nbconvert_exporter": "python",
   "pygments_lexer": "ipython3",
   "version": "3.10.1"
  },
  "orig_nbformat": 4,
  "vscode": {
   "interpreter": {
    "hash": "5f8436ca69605a966ff79010098809a12c5976760e976a925ddbd71d745a4499"
   }
  }
 },
 "nbformat": 4,
 "nbformat_minor": 2
}
